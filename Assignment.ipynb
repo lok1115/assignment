{
  "metadata": {
    "language_info": {
      "codemirror_mode": {
        "name": "python",
        "version": 3
      },
      "file_extension": ".py",
      "mimetype": "text/x-python",
      "name": "python",
      "nbconvert_exporter": "python",
      "pygments_lexer": "ipython3",
      "version": "3.8"
    },
    "kernelspec": {
      "name": "python",
      "display_name": "Python (Pyodide)",
      "language": "python"
    }
  },
  "nbformat_minor": 4,
  "nbformat": 4,
  "cells": [
    {
      "cell_type": "markdown",
      "source": "### My Jupyter Notebook on IBM Watson Studio",
      "metadata": {}
    },
    {
      "cell_type": "markdown",
      "source": "**Name: CHAN WAI LOK**, Current occupation: Financial analyst",
      "metadata": {}
    },
    {
      "cell_type": "markdown",
      "source": "I am interested in data science because \n*1. It is fun.*\n*2. It is interesting.*",
      "metadata": {}
    },
    {
      "cell_type": "markdown",
      "source": "### 1 plus 1 equals two",
      "metadata": {}
    },
    {
      "cell_type": "code",
      "source": "1+1",
      "metadata": {
        "trusted": true
      },
      "execution_count": 5,
      "outputs": [
        {
          "execution_count": 5,
          "output_type": "execute_result",
          "data": {
            "text/plain": "2"
          },
          "metadata": {}
        }
      ]
    },
    {
      "cell_type": "markdown",
      "source": "#horizontal rule, U+2500, Box Drawings Light Horizontal\nprint('─' * 10)  \n\n#bulleted list,\n*simple item \n\n#numbered list,\nblob = [\"a\", \"b\", \"c\", \"d\", \"e\", \"f\"] \nfor number, letter in enumerate(blob):\n    print(number, letter)",
      "metadata": {}
    },
    {
      "cell_type": "code",
      "source": "",
      "metadata": {},
      "execution_count": null,
      "outputs": []
    }
  ]
}